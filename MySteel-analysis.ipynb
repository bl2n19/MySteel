{
 "cells": [
  {
   "cell_type": "code",
   "execution_count": 5,
   "id": "0ab288f3",
   "metadata": {},
   "outputs": [
    {
     "data": {
      "text/plain": [
       "'2021-04-12'"
      ]
     },
     "execution_count": 5,
     "metadata": {},
     "output_type": "execute_result"
    }
   ],
   "source": [
    "import pandas as pd\n",
    "import datetime"
   ]
  },
  {
   "cell_type": "code",
   "execution_count": 183,
   "id": "504e00dd",
   "metadata": {},
   "outputs": [],
   "source": [
    "#根据‘价格’列的位置分为2组，dict_urls_1的价格列在H列，dict_urls_2在I列\n",
    "dict_urls = {\n",
    "    'dict_urls_1': { \n",
    "    '无锡300系不锈钢冷轧卷板': 'https://list.info.mybxg.com/market/p-665,666,667,2222,2257,2259------0-01010301-------1.html',\n",
    "    '无锡300系不锈钢热轧卷板': 'https://list.info.mybxg.com/market/p-671-0----0102160102-0-01010301-------1.html',\n",
    "    '300系不锈钢工业无缝管': 'https://list.info.mybxg.com/market/p-681-----0102160203-0--------1.html',\n",
    "    '不锈钢角钢': 'https://list.info.mybxg.com/market/p-691-----0102160303-0--------1.html',\n",
    "    '上海市场工角槽钢': 'https://list1.mysteel.com/market/p-227-0----01010701-0-010101-------1.html',\n",
    "    '上海市场冷轧板卷': 'https://list1.mysteel.com/market/p-221-----01010401-0-010101-------1.html',\n",
    "    '上海市场热轧板卷': 'https://list1.mysteel.com/market/p-221-----01010301-0-010101-------1.html',\n",
    "    '上海市场低合金卷': 'https://list1.mysteel.com/market/p-221-----01010302-0-010101-------1.html',\n",
    "    '上海市场镀锌板卷': 'https://list1.mysteel.com/market/p-221-----01010501-0-010101-------1.html',\n",
    "    '沈阳市场H型钢': 'https://list1.mysteel.com/market/p-223-----01010705-0-01050101-------1.html',\n",
    "    '上海市场方矩管': 'https://list1.mysteel.com/market/p-221-----01010904-0-010101-------1.html',\n",
    "    '长春市场工角槽钢': 'https://list1.mysteel.com/market/p-223-----01010701-0-01050201-------1.html',\n",
    "    '长春市场冷轧板卷': 'https://list1.mysteel.com/market/p-223-----01010401-0-01050201-------1.html',\n",
    "    '烟台市场热轧开平板': 'https://list1.mysteel.com/market/p-223-----01010306-0-01010205-------1.html'\n",
    "    },\n",
    "    'dict_urls_2': { \n",
    "    '300系不锈钢工业焊管': 'https://list.info.mybxg.com/market/p-678-----010216020201-0--------1.html',\n",
    "    '上海市场无缝管': 'https://list1.mysteel.com/market/p-221-----01010901-0-010101-------1.html',\n",
    "    }\n",
    "}\n",
    "\n",
    "dict_urls_1_list = list(dict_urls['dict_urls_1'].items()) #提取dict_urls_1\n",
    "dict_urls_2_list = list(dict_urls['dict_urls_2'].items()) #提取dict_urls_2\n",
    "dict_urls_1_sheet_name = [i[0] for i in dict_urls_1_list] #提取dict_urls_1的key\n",
    "dict_urls_2_sheet_name = [i[0] for i in dict_urls_2_list] #提取dict_urls_2的key"
   ]
  },
  {
   "cell_type": "code",
   "execution_count": 6,
   "id": "131f9dea",
   "metadata": {},
   "outputs": [
    {
     "data": {
      "text/plain": [
       "'analysis_2021-04-12.xlsx'"
      ]
     },
     "execution_count": 6,
     "metadata": {},
     "output_type": "execute_result"
    }
   ],
   "source": [
    "input_path = r'2019-now.xlsx' #数据来源\n",
    "output_path = 'analysis_' + str(datetime.date.today()) + '.xlsx' #保存路径"
   ]
  },
  {
   "cell_type": "code",
   "execution_count": 185,
   "id": "0777bedc",
   "metadata": {},
   "outputs": [],
   "source": [
    "\"\"\"\n",
    "first item in dict_urls_1_sheet_name\n",
    "\"\"\"\n",
    "df = pd.read_excel(io = input_path, sheet_name = dict_urls_1_sheet_name[0], na_values = ['-', 0]) #specify sheet_name as the first item; treat - and 0 as null values\n",
    "df = df.iloc[:, :8] #截取到价格所在列\n",
    "df.index = df['日期'] # 将日期列用作dataframe的index\n",
    "del df['日期'] #删除原来的日期列\n",
    "df_calc = df.groupby([df.columns[2], df.columns[3], df.columns[4], df.index.year, df.index.month]).agg({df.columns[-1]: ['mean', 'max', 'min']}) #选择需要进行分组的列，按照分组计算价格列的mean，max，min\n",
    "writer = pd.ExcelWriter(output_path, mode = 'w', engine = 'openpyxl') #创建第一个sheet需将mode设为'w'，即write\n",
    "df_calc.to_excel(writer, sheet_name = dict_urls_1_sheet_name[0])\n",
    "writer.save()\n",
    "writer.close()"
   ]
  },
  {
   "cell_type": "code",
   "execution_count": 186,
   "id": "0a16056c",
   "metadata": {},
   "outputs": [],
   "source": [
    "\"\"\"\n",
    "the rest of items in dict_urls_1_sheet_name\n",
    "\"\"\"\n",
    "for material in dict_urls_1_sheet_name[1:]: #从第二个item开始选择\n",
    "    df = pd.read_excel(io = input_path, sheet_name = material, na_values = ['-', 0])\n",
    "    df = df.iloc[:, :8]\n",
    "    df.index = df['日期']\n",
    "    del df['日期']\n",
    "    df_calc = df.groupby([df.columns[2], df.columns[3], df.columns[4], df.index.year, df.index.month]).agg({df.columns[-1]: ['mean', 'max', 'min']})\n",
    "    writer = pd.ExcelWriter(output_path, mode = 'a', engine = 'openpyxl') #在不修改已有sheet的情况下新增sheet，将mode设为'a'，即append\n",
    "    df_calc.to_excel(writer, sheet_name = material)\n",
    "    writer.save()\n",
    "writer.close()"
   ]
  },
  {
   "cell_type": "code",
   "execution_count": 187,
   "id": "27db80d9",
   "metadata": {},
   "outputs": [],
   "source": [
    "\"\"\"\n",
    "dict_urls_2_sheet_name\n",
    "\"\"\"\n",
    "for material in dict_urls_2_sheet_name:\n",
    "    df = pd.read_excel(io = input_path, sheet_name = material, na_values = ['-', 0])\n",
    "    df = df.iloc[:, :9] #注意dict_urls_2中的价格列在I列\n",
    "    df.index = df['日期']\n",
    "    del df['日期']\n",
    "    df_calc = df.groupby([df.columns[2], df.columns[3], df.columns[4], df.index.year, df.index.month]).agg({df.columns[-1]: ['mean', 'max', 'min']})\n",
    "    writer = pd.ExcelWriter(output_path, mode = 'a', engine = 'openpyxl')\n",
    "    df_calc.to_excel(writer, sheet_name = material)\n",
    "    writer.save()\n",
    "writer.close()"
   ]
  }
 ],
 "metadata": {
  "kernelspec": {
   "display_name": "Python 3",
   "language": "python",
   "name": "python3"
  },
  "language_info": {
   "codemirror_mode": {
    "name": "ipython",
    "version": 3
   },
   "file_extension": ".py",
   "mimetype": "text/x-python",
   "name": "python",
   "nbconvert_exporter": "python",
   "pygments_lexer": "ipython3",
   "version": "3.8.8"
  }
 },
 "nbformat": 4,
 "nbformat_minor": 5
}
